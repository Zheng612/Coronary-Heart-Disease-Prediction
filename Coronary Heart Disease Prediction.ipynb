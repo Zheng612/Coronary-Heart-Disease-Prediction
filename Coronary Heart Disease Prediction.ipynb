{
 "cells": [
  {
   "cell_type": "markdown",
   "metadata": {},
   "source": [
    "# Coronary Heart Disease Prediction"
   ]
  },
  {
   "cell_type": "code",
   "execution_count": 857,
   "metadata": {},
   "outputs": [],
   "source": [
    "import pandas as pd\n",
    "import numpy as np\n",
    "import os\n",
    "from numpy import mean\n",
    "from numpy import std\n",
    "\n",
    "#visualization\n",
    "import seaborn as sns\n",
    "import matplotlib.pyplot as plt\n",
    "\n",
    "#model\n",
    "from sklearn.linear_model import LogisticRegression\n",
    "from sklearn.svm import SVC\n",
    "from sklearn.ensemble import RandomForestClassifier\n",
    "from sklearn.neighbors import KNeighborsClassifier\n",
    "from sklearn.naive_bayes import GaussianNB\n",
    "from sklearn.tree import DecisionTreeClassifier\n",
    "\n",
    "#confusion matrix\n",
    "from sklearn.metrics import confusion_matrix \n",
    "from sklearn.metrics import accuracy_score \n",
    "from sklearn.metrics import classification_report "
   ]
  },
  {
   "cell_type": "markdown",
   "metadata": {},
   "source": [
    "# Import data"
   ]
  },
  {
   "cell_type": "code",
   "execution_count": 858,
   "metadata": {},
   "outputs": [],
   "source": [
    "data=pd.read_csv(\"framingham.csv\")"
   ]
  },
  {
   "cell_type": "code",
   "execution_count": 859,
   "metadata": {},
   "outputs": [
    {
     "name": "stdout",
     "output_type": "stream",
     "text": [
      "<class 'pandas.core.frame.DataFrame'>\n",
      "RangeIndex: 4240 entries, 0 to 4239\n",
      "Data columns (total 16 columns):\n",
      "male               4240 non-null int64\n",
      "age                4240 non-null int64\n",
      "education          4135 non-null float64\n",
      "currentSmoker      4240 non-null int64\n",
      "cigsPerDay         4211 non-null float64\n",
      "BPMeds             4187 non-null float64\n",
      "prevalentStroke    4240 non-null int64\n",
      "prevalentHyp       4240 non-null int64\n",
      "diabetes           4240 non-null int64\n",
      "totChol            4190 non-null float64\n",
      "sysBP              4240 non-null float64\n",
      "diaBP              4240 non-null float64\n",
      "BMI                4221 non-null float64\n",
      "heartRate          4239 non-null float64\n",
      "glucose            3852 non-null float64\n",
      "TenYearCHD         4240 non-null int64\n",
      "dtypes: float64(9), int64(7)\n",
      "memory usage: 530.1 KB\n"
     ]
    }
   ],
   "source": [
    "data.info()"
   ]
  },
  {
   "cell_type": "code",
   "execution_count": 860,
   "metadata": {},
   "outputs": [],
   "source": [
    "#data.head()"
   ]
  },
  {
   "cell_type": "markdown",
   "metadata": {},
   "source": [
    "# Feature exploration: Correlation between each feature and TenYearCHD"
   ]
  },
  {
   "cell_type": "markdown",
   "metadata": {},
   "source": [
    "### 1. relationship between male and TenYearCHD"
   ]
  },
  {
   "cell_type": "code",
   "execution_count": 861,
   "metadata": {},
   "outputs": [
    {
     "data": {
      "text/html": [
       "<div>\n",
       "<style scoped>\n",
       "    .dataframe tbody tr th:only-of-type {\n",
       "        vertical-align: middle;\n",
       "    }\n",
       "\n",
       "    .dataframe tbody tr th {\n",
       "        vertical-align: top;\n",
       "    }\n",
       "\n",
       "    .dataframe thead th {\n",
       "        text-align: right;\n",
       "    }\n",
       "</style>\n",
       "<table border=\"1\" class=\"dataframe\">\n",
       "  <thead>\n",
       "    <tr style=\"text-align: right;\">\n",
       "      <th></th>\n",
       "      <th>male</th>\n",
       "      <th>TenYearCHD</th>\n",
       "    </tr>\n",
       "  </thead>\n",
       "  <tbody>\n",
       "    <tr>\n",
       "      <td>1</td>\n",
       "      <td>1</td>\n",
       "      <td>0.188462</td>\n",
       "    </tr>\n",
       "    <tr>\n",
       "      <td>0</td>\n",
       "      <td>0</td>\n",
       "      <td>0.124380</td>\n",
       "    </tr>\n",
       "  </tbody>\n",
       "</table>\n",
       "</div>"
      ],
      "text/plain": [
       "   male  TenYearCHD\n",
       "1     1    0.188462\n",
       "0     0    0.124380"
      ]
     },
     "execution_count": 861,
     "metadata": {},
     "output_type": "execute_result"
    }
   ],
   "source": [
    "data[[\"male\",\"TenYearCHD\"]].groupby([\"male\"],as_index=False).mean().sort_values(by=\"TenYearCHD\",ascending=False)\n",
    "\n",
    "#conclusion: male has slightly higher chance of getting CHD"
   ]
  },
  {
   "cell_type": "markdown",
   "metadata": {},
   "source": [
    "### 2. relationship between age and TenYearCHD"
   ]
  },
  {
   "cell_type": "code",
   "execution_count": 862,
   "metadata": {},
   "outputs": [
    {
     "data": {
      "text/plain": [
       "<seaborn.axisgrid.FacetGrid at 0x1c386efa90>"
      ]
     },
     "execution_count": 862,
     "metadata": {},
     "output_type": "execute_result"
    },
    {
     "data": {
      "image/png": "[encoded data removed]",
      "text/plain": [
       "<Figure size 432x216 with 2 Axes>"
      ]
     },
     "metadata": {
      "needs_background": "light"
     },
     "output_type": "display_data"
    }
   ],
   "source": [
    "g = sns.FacetGrid(data,col=\"TenYearCHD\")\n",
    "g.map(plt.hist,\"age\",bins=20)\n",
    "# Conclusion: people under age of 50 have lower CHD rate"
   ]
  },
  {
   "cell_type": "markdown",
   "metadata": {},
   "source": [
    "### 3. relationship between age and TenYearCHD"
   ]
  },
  {
   "cell_type": "code",
   "execution_count": 863,
   "metadata": {},
   "outputs": [
    {
     "data": {
      "text/html": [
       "<div>\n",
       "<style scoped>\n",
       "    .dataframe tbody tr th:only-of-type {\n",
       "        vertical-align: middle;\n",
       "    }\n",
       "\n",
       "    .dataframe tbody tr th {\n",
       "        vertical-align: top;\n",
       "    }\n",
       "\n",
       "    .dataframe thead th {\n",
       "        text-align: right;\n",
       "    }\n",
       "</style>\n",
       "<table border=\"1\" class=\"dataframe\">\n",
       "  <thead>\n",
       "    <tr style=\"text-align: right;\">\n",
       "      <th></th>\n",
       "      <th>education</th>\n",
       "      <th>TenYearCHD</th>\n",
       "    </tr>\n",
       "  </thead>\n",
       "  <tbody>\n",
       "    <tr>\n",
       "      <td>0</td>\n",
       "      <td>1.0</td>\n",
       "      <td>0.187791</td>\n",
       "    </tr>\n",
       "    <tr>\n",
       "      <td>3</td>\n",
       "      <td>4.0</td>\n",
       "      <td>0.147992</td>\n",
       "    </tr>\n",
       "    <tr>\n",
       "      <td>2</td>\n",
       "      <td>3.0</td>\n",
       "      <td>0.127721</td>\n",
       "    </tr>\n",
       "    <tr>\n",
       "      <td>1</td>\n",
       "      <td>2.0</td>\n",
       "      <td>0.117318</td>\n",
       "    </tr>\n",
       "  </tbody>\n",
       "</table>\n",
       "</div>"
      ],
      "text/plain": [
       "   education  TenYearCHD\n",
       "0        1.0    0.187791\n",
       "3        4.0    0.147992\n",
       "2        3.0    0.127721\n",
       "1        2.0    0.117318"
      ]
     },
     "execution_count": 863,
     "metadata": {},
     "output_type": "execute_result"
    }
   ],
   "source": [
    "data[[\"education\",\"TenYearCHD\"]].groupby([\"education\"],as_index=False).mean().sort_values(by=\"TenYearCHD\",ascending=False)\n",
    "#conclusion: people with\"some high school\" degree, have higher chance of getting CHD."
   ]
  },
  {
   "cell_type": "markdown",
   "metadata": {},
   "source": [
    "### 4. relationship between currentSmoker and TenYearCHD"
   ]
  },
  {
   "cell_type": "code",
   "execution_count": 864,
   "metadata": {},
   "outputs": [
    {
     "data": {
      "text/html": [
       "<div>\n",
       "<style scoped>\n",
       "    .dataframe tbody tr th:only-of-type {\n",
       "        vertical-align: middle;\n",
       "    }\n",
       "\n",
       "    .dataframe tbody tr th {\n",
       "        vertical-align: top;\n",
       "    }\n",
       "\n",
       "    .dataframe thead th {\n",
       "        text-align: right;\n",
       "    }\n",
       "</style>\n",
       "<table border=\"1\" class=\"dataframe\">\n",
       "  <thead>\n",
       "    <tr style=\"text-align: right;\">\n",
       "      <th></th>\n",
       "      <th>currentSmoker</th>\n",
       "      <th>TenYearCHD</th>\n",
       "    </tr>\n",
       "  </thead>\n",
       "  <tbody>\n",
       "    <tr>\n",
       "      <td>1</td>\n",
       "      <td>1</td>\n",
       "      <td>0.158950</td>\n",
       "    </tr>\n",
       "    <tr>\n",
       "      <td>0</td>\n",
       "      <td>0</td>\n",
       "      <td>0.144988</td>\n",
       "    </tr>\n",
       "  </tbody>\n",
       "</table>\n",
       "</div>"
      ],
      "text/plain": [
       "   currentSmoker  TenYearCHD\n",
       "1              1    0.158950\n",
       "0              0    0.144988"
      ]
     },
     "execution_count": 864,
     "metadata": {},
     "output_type": "execute_result"
    }
   ],
   "source": [
    "data[[\"currentSmoker\",\"TenYearCHD\"]].groupby([\"currentSmoker\"],as_index=False).mean().sort_values(by=\"TenYearCHD\",ascending=False)\n",
    "#conclusion: people who is currently a smoker, has higher chance of developing CHD"
   ]
  },
  {
   "cell_type": "markdown",
   "metadata": {},
   "source": [
    "### 5. cigsPerDay and TenYearCHD"
   ]
  },
  {
   "cell_type": "code",
   "execution_count": 865,
   "metadata": {},
   "outputs": [
    {
     "data": {
      "text/plain": [
       "<seaborn.axisgrid.FacetGrid at 0x1c3889ebd0>"
      ]
     },
     "execution_count": 865,
     "metadata": {},
     "output_type": "execute_result"
    },
    {
     "data": {
      "image/png": "[encoded data removed]",
      "text/plain": [
       "<Figure size 432x216 with 2 Axes>"
      ]
     },
     "metadata": {
      "needs_background": "light"
     },
     "output_type": "display_data"
    }
   ],
   "source": [
    "g=sns.FacetGrid(data, col=\"TenYearCHD\")\n",
    "g.map(plt.hist,\"cigsPerDay\", bins=10)\n",
    "#Conclusion: people who smoke 0 cig/day, have higher chance of NOT getting CHD. "
   ]
  },
  {
   "cell_type": "markdown",
   "metadata": {},
   "source": [
    "### 6. BPMeds and TenYearCHD"
   ]
  },
  {
   "cell_type": "code",
   "execution_count": 866,
   "metadata": {},
   "outputs": [
    {
     "data": {
      "text/html": [
       "<div>\n",
       "<style scoped>\n",
       "    .dataframe tbody tr th:only-of-type {\n",
       "        vertical-align: middle;\n",
       "    }\n",
       "\n",
       "    .dataframe tbody tr th {\n",
       "        vertical-align: top;\n",
       "    }\n",
       "\n",
       "    .dataframe thead th {\n",
       "        text-align: right;\n",
       "    }\n",
       "</style>\n",
       "<table border=\"1\" class=\"dataframe\">\n",
       "  <thead>\n",
       "    <tr style=\"text-align: right;\">\n",
       "      <th></th>\n",
       "      <th>BPMeds</th>\n",
       "      <th>TenYearCHD</th>\n",
       "    </tr>\n",
       "  </thead>\n",
       "  <tbody>\n",
       "    <tr>\n",
       "      <td>1</td>\n",
       "      <td>1.0</td>\n",
       "      <td>0.330645</td>\n",
       "    </tr>\n",
       "    <tr>\n",
       "      <td>0</td>\n",
       "      <td>0.0</td>\n",
       "      <td>0.145705</td>\n",
       "    </tr>\n",
       "  </tbody>\n",
       "</table>\n",
       "</div>"
      ],
      "text/plain": [
       "   BPMeds  TenYearCHD\n",
       "1     1.0    0.330645\n",
       "0     0.0    0.145705"
      ]
     },
     "execution_count": 866,
     "metadata": {},
     "output_type": "execute_result"
    }
   ],
   "source": [
    "data[[\"BPMeds\",\"TenYearCHD\"]].groupby(\"BPMeds\", as_index=False).mean().sort_values(by=\"TenYearCHD\", ascending=False)\n",
    "#Conclusion: people who are on Blood Pressure medication is more likely developing CHD. "
   ]
  },
  {
   "cell_type": "markdown",
   "metadata": {},
   "source": [
    "### 7. prevalentStroke and TenYearCHD"
   ]
  },
  {
   "cell_type": "code",
   "execution_count": 867,
   "metadata": {},
   "outputs": [
    {
     "data": {
      "text/html": [
       "<div>\n",
       "<style scoped>\n",
       "    .dataframe tbody tr th:only-of-type {\n",
       "        vertical-align: middle;\n",
       "    }\n",
       "\n",
       "    .dataframe tbody tr th {\n",
       "        vertical-align: top;\n",
       "    }\n",
       "\n",
       "    .dataframe thead th {\n",
       "        text-align: right;\n",
       "    }\n",
       "</style>\n",
       "<table border=\"1\" class=\"dataframe\">\n",
       "  <thead>\n",
       "    <tr style=\"text-align: right;\">\n",
       "      <th></th>\n",
       "      <th>prevalentStroke</th>\n",
       "      <th>TenYearCHD</th>\n",
       "    </tr>\n",
       "  </thead>\n",
       "  <tbody>\n",
       "    <tr>\n",
       "      <td>1</td>\n",
       "      <td>1</td>\n",
       "      <td>0.440000</td>\n",
       "    </tr>\n",
       "    <tr>\n",
       "      <td>0</td>\n",
       "      <td>0</td>\n",
       "      <td>0.150178</td>\n",
       "    </tr>\n",
       "  </tbody>\n",
       "</table>\n",
       "</div>"
      ],
      "text/plain": [
       "   prevalentStroke  TenYearCHD\n",
       "1                1    0.440000\n",
       "0                0    0.150178"
      ]
     },
     "execution_count": 867,
     "metadata": {},
     "output_type": "execute_result"
    }
   ],
   "source": [
    "data[[\"prevalentStroke\",\"TenYearCHD\"]].groupby(\"prevalentStroke\", as_index=False).mean().sort_values(\"TenYearCHD\", ascending=False)\n",
    "#conclusion: people with prevalent Stroke have HIGHER chance of getting CHD"
   ]
  },
  {
   "cell_type": "markdown",
   "metadata": {},
   "source": [
    "### 8. prevalentHyp and TenYearCHD"
   ]
  },
  {
   "cell_type": "code",
   "execution_count": 868,
   "metadata": {},
   "outputs": [
    {
     "data": {
      "text/html": [
       "<div>\n",
       "<style scoped>\n",
       "    .dataframe tbody tr th:only-of-type {\n",
       "        vertical-align: middle;\n",
       "    }\n",
       "\n",
       "    .dataframe tbody tr th {\n",
       "        vertical-align: top;\n",
       "    }\n",
       "\n",
       "    .dataframe thead th {\n",
       "        text-align: right;\n",
       "    }\n",
       "</style>\n",
       "<table border=\"1\" class=\"dataframe\">\n",
       "  <thead>\n",
       "    <tr style=\"text-align: right;\">\n",
       "      <th></th>\n",
       "      <th>prevalentHyp</th>\n",
       "      <th>TenYearCHD</th>\n",
       "    </tr>\n",
       "  </thead>\n",
       "  <tbody>\n",
       "    <tr>\n",
       "      <td>1</td>\n",
       "      <td>1</td>\n",
       "      <td>0.246773</td>\n",
       "    </tr>\n",
       "    <tr>\n",
       "      <td>0</td>\n",
       "      <td>0</td>\n",
       "      <td>0.109134</td>\n",
       "    </tr>\n",
       "  </tbody>\n",
       "</table>\n",
       "</div>"
      ],
      "text/plain": [
       "   prevalentHyp  TenYearCHD\n",
       "1             1    0.246773\n",
       "0             0    0.109134"
      ]
     },
     "execution_count": 868,
     "metadata": {},
     "output_type": "execute_result"
    }
   ],
   "source": [
    "data[[\"prevalentHyp\",\"TenYearCHD\"]].groupby(\"prevalentHyp\", as_index=False).mean().sort_values(\"TenYearCHD\", ascending=False)\n",
    "#conclusion: people with prevalent Hyp have HIGHER chance of getting CHD"
   ]
  },
  {
   "cell_type": "markdown",
   "metadata": {},
   "source": [
    "### 9. diabetes and Ten Year CHD "
   ]
  },
  {
   "cell_type": "code",
   "execution_count": 869,
   "metadata": {},
   "outputs": [
    {
     "data": {
      "text/html": [
       "<div>\n",
       "<style scoped>\n",
       "    .dataframe tbody tr th:only-of-type {\n",
       "        vertical-align: middle;\n",
       "    }\n",
       "\n",
       "    .dataframe tbody tr th {\n",
       "        vertical-align: top;\n",
       "    }\n",
       "\n",
       "    .dataframe thead th {\n",
       "        text-align: right;\n",
       "    }\n",
       "</style>\n",
       "<table border=\"1\" class=\"dataframe\">\n",
       "  <thead>\n",
       "    <tr style=\"text-align: right;\">\n",
       "      <th></th>\n",
       "      <th>diabetes</th>\n",
       "      <th>TenYearCHD</th>\n",
       "    </tr>\n",
       "  </thead>\n",
       "  <tbody>\n",
       "    <tr>\n",
       "      <td>1</td>\n",
       "      <td>1</td>\n",
       "      <td>0.366972</td>\n",
       "    </tr>\n",
       "    <tr>\n",
       "      <td>0</td>\n",
       "      <td>0</td>\n",
       "      <td>0.146212</td>\n",
       "    </tr>\n",
       "  </tbody>\n",
       "</table>\n",
       "</div>"
      ],
      "text/plain": [
       "   diabetes  TenYearCHD\n",
       "1         1    0.366972\n",
       "0         0    0.146212"
      ]
     },
     "execution_count": 869,
     "metadata": {},
     "output_type": "execute_result"
    }
   ],
   "source": [
    "data[[\"diabetes\",\"TenYearCHD\"]].groupby(\"diabetes\", as_index=False).mean().sort_values(\"TenYearCHD\", ascending=False)\n",
    "#conclusion: people with diabetes have HIGHER chance of getting CHD"
   ]
  },
  {
   "cell_type": "markdown",
   "metadata": {},
   "source": [
    "### 10. totChol and TenYearCHD"
   ]
  },
  {
   "cell_type": "code",
   "execution_count": 870,
   "metadata": {},
   "outputs": [
    {
     "data": {
      "text/plain": [
       "<seaborn.axisgrid.FacetGrid at 0x1c38ad0150>"
      ]
     },
     "execution_count": 870,
     "metadata": {},
     "output_type": "execute_result"
    },
    {
     "data": {
      "image/png": "[encoded data removed]",
      "text/plain": [
       "<Figure size 432x216 with 2 Axes>"
      ]
     },
     "metadata": {
      "needs_background": "light"
     },
     "output_type": "display_data"
    }
   ],
   "source": [
    "g=sns.FacetGrid(data, col=\"TenYearCHD\")\n",
    "g.map(plt.hist,\"totChol\", bins=10)\n",
    "#Conclusion: people have lower totChol, have lower chance getting CHD"
   ]
  },
  {
   "cell_type": "markdown",
   "metadata": {},
   "source": [
    "### 11. sysBP and TenYearCHD"
   ]
  },
  {
   "cell_type": "code",
   "execution_count": 871,
   "metadata": {},
   "outputs": [
    {
     "data": {
      "text/plain": [
       "<seaborn.axisgrid.FacetGrid at 0x1c38b9bc90>"
      ]
     },
     "execution_count": 871,
     "metadata": {},
     "output_type": "execute_result"
    },
    {
     "data": {
      "image/png": "[encoded data removed]",
      "text/plain": [
       "<Figure size 432x216 with 2 Axes>"
      ]
     },
     "metadata": {
      "needs_background": "light"
     },
     "output_type": "display_data"
    }
   ],
   "source": [
    "g=sns.FacetGrid(data, col=\"TenYearCHD\")\n",
    "g.map(plt.hist, \"sysBP\")\n",
    "#conclusion:people with lower sysBP, have higher chance NOT getting CHD"
   ]
  },
  {
   "cell_type": "markdown",
   "metadata": {},
   "source": [
    "### 12. diaBP and TenYearCHD"
   ]
  },
  {
   "cell_type": "code",
   "execution_count": 872,
   "metadata": {},
   "outputs": [
    {
     "data": {
      "text/plain": [
       "<seaborn.axisgrid.FacetGrid at 0x1c38ac0610>"
      ]
     },
     "execution_count": 872,
     "metadata": {},
     "output_type": "execute_result"
    },
    {
     "data": {
      "image/png": "[encoded data removed]",
      "text/plain": [
       "<Figure size 432x216 with 2 Axes>"
      ]
     },
     "metadata": {
      "needs_background": "light"
     },
     "output_type": "display_data"
    }
   ],
   "source": [
    "g=sns.FacetGrid(data, col=\"TenYearCHD\")\n",
    "g.map(plt.hist, \"diaBP\")\n",
    "#conclusion: people with diaBP between 60-90, have higher chance not getting CHD"
   ]
  },
  {
   "cell_type": "markdown",
   "metadata": {},
   "source": [
    "### 13. BMI and TenYearCHD"
   ]
  },
  {
   "cell_type": "code",
   "execution_count": 873,
   "metadata": {},
   "outputs": [
    {
     "data": {
      "text/plain": [
       "<seaborn.axisgrid.FacetGrid at 0x1c3294eb50>"
      ]
     },
     "execution_count": 873,
     "metadata": {},
     "output_type": "execute_result"
    },
    {
     "data": {
      "image/png": "[encoded data removed]",
      "text/plain": [
       "<Figure size 432x216 with 2 Axes>"
      ]
     },
     "metadata": {
      "needs_background": "light"
     },
     "output_type": "display_data"
    }
   ],
   "source": [
    "g=sns.FacetGrid(data, col=\"TenYearCHD\")\n",
    "g.map(plt.hist, \"BMI\")\n",
    "#conclusion: people with lower BMI, have higher chance NOT getting CHD"
   ]
  },
  {
   "cell_type": "markdown",
   "metadata": {},
   "source": [
    "### 14.heartRate and TenYearCHD "
   ]
  },
  {
   "cell_type": "code",
   "execution_count": 874,
   "metadata": {},
   "outputs": [
    {
     "data": {
      "text/plain": [
       "<seaborn.axisgrid.FacetGrid at 0x1c30fe19d0>"
      ]
     },
     "execution_count": 874,
     "metadata": {},
     "output_type": "execute_result"
    },
    {
     "data": {
      "image/png": "[encoded data removed]",
      "text/plain": [
       "<Figure size 432x216 with 2 Axes>"
      ]
     },
     "metadata": {
      "needs_background": "light"
     },
     "output_type": "display_data"
    }
   ],
   "source": [
    "g=sns.FacetGrid(data, col=\"TenYearCHD\")\n",
    "g.map(plt.hist, \"heartRate\")\n",
    "#conclusion: people with lower heartrate, have higher chance NOT getting CHD"
   ]
  },
  {
   "cell_type": "markdown",
   "metadata": {},
   "source": [
    "### 15. glucose and TenYearCHD"
   ]
  },
  {
   "cell_type": "code",
   "execution_count": 875,
   "metadata": {},
   "outputs": [
    {
     "data": {
      "text/plain": [
       "<seaborn.axisgrid.FacetGrid at 0x1c310f8390>"
      ]
     },
     "execution_count": 875,
     "metadata": {},
     "output_type": "execute_result"
    },
    {
     "data": {
      "image/png": "[encoded data removed]",
      "text/plain": [
       "<Figure size 432x216 with 2 Axes>"
      ]
     },
     "metadata": {
      "needs_background": "light"
     },
     "output_type": "display_data"
    }
   ],
   "source": [
    "g=sns.FacetGrid(data, col=\"TenYearCHD\")\n",
    "g.map(plt.hist, \"glucose\")\n",
    "#conclusion: people with lower glucose, have higher chance NOT getting CHD"
   ]
  },
  {
   "cell_type": "markdown",
   "metadata": {},
   "source": [
    "# Visualization of feature correlation - before feature selection"
   ]
  },
  {
   "cell_type": "code",
   "execution_count": 876,
   "metadata": {},
   "outputs": [
    {
     "data": {
      "text/plain": [
       "(16.0, 0.0)"
      ]
     },
     "execution_count": 876,
     "metadata": {},
     "output_type": "execute_result"
    },
    {
     "data": {
      "image/png": "[encoded data removed]",
      "text/plain": [
       "<Figure size 1080x1080 with 2 Axes>"
      ]
     },
     "metadata": {
      "needs_background": "light"
     },
     "output_type": "display_data"
    }
   ],
   "source": [
    "colormap = plt\n",
    "plt.figure(figsize=(15,15))\n",
    "plt.title('Correlation of Features', y=1.05, size=10)\n",
    "ax=sns.heatmap(data.astype(float).corr(),linewidths=1,vmax=0.5,\n",
    "            square=True, cmap=\"Greens\", annot=True) \n",
    "#if i don't run the next 2 lines of code, the heatmap will be cut off.\n",
    "bottom, top = ax.get_ylim()\n",
    "ax.set_ylim(bottom + 0.5, top - 0.5)"
   ]
  },
  {
   "cell_type": "markdown",
   "metadata": {},
   "source": [
    "# Missing Values"
   ]
  },
  {
   "cell_type": "code",
   "execution_count": 877,
   "metadata": {},
   "outputs": [
    {
     "data": {
      "text/plain": [
       "male                 0\n",
       "age                  0\n",
       "education          105\n",
       "currentSmoker        0\n",
       "cigsPerDay          29\n",
       "BPMeds              53\n",
       "prevalentStroke      0\n",
       "prevalentHyp         0\n",
       "diabetes             0\n",
       "totChol             50\n",
       "sysBP                0\n",
       "diaBP                0\n",
       "BMI                 19\n",
       "heartRate            1\n",
       "glucose            388\n",
       "TenYearCHD           0\n",
       "dtype: int64"
      ]
     },
     "execution_count": 877,
     "metadata": {},
     "output_type": "execute_result"
    }
   ],
   "source": [
    "#count how many missing values\n",
    "data.isnull().sum()"
   ]
  },
  {
   "cell_type": "markdown",
   "metadata": {},
   "source": [
    "### 1. education: replace the missing values with most frequent value "
   ]
  },
  {
   "cell_type": "code",
   "execution_count": 878,
   "metadata": {},
   "outputs": [
    {
     "data": {
      "text/plain": [
       "1.0    1720\n",
       "2.0    1253\n",
       "3.0     689\n",
       "4.0     473\n",
       "Name: education, dtype: int64"
      ]
     },
     "execution_count": 878,
     "metadata": {},
     "output_type": "execute_result"
    }
   ],
   "source": [
    "#find the most frequent value: 1.0\n",
    "data['education'].value_counts()"
   ]
  },
  {
   "cell_type": "code",
   "execution_count": 879,
   "metadata": {},
   "outputs": [],
   "source": [
    "#replace missing values with \"1.0\"\n",
    "def replace_most_common(x):\n",
    "    if pd.isnull(x):\n",
    "        return 1.0\n",
    "    else:\n",
    "        return x\n",
    "data['education'] = data['education'].map(replace_most_common)"
   ]
  },
  {
   "cell_type": "code",
   "execution_count": 880,
   "metadata": {},
   "outputs": [
    {
     "data": {
      "text/plain": [
       "1.0    1825\n",
       "2.0    1253\n",
       "3.0     689\n",
       "4.0     473\n",
       "Name: education, dtype: int64"
      ]
     },
     "execution_count": 880,
     "metadata": {},
     "output_type": "execute_result"
    }
   ],
   "source": [
    "#count the data again. There are 1825-1720=105 missing values\n",
    "data['education'].value_counts()"
   ]
  },
  {
   "cell_type": "markdown",
   "metadata": {},
   "source": [
    "# 2. cigsPerDay: replace the missing values with median"
   ]
  },
  {
   "cell_type": "code",
   "execution_count": 881,
   "metadata": {},
   "outputs": [
    {
     "data": {
      "text/plain": [
       "<matplotlib.axes._subplots.AxesSubplot at 0x1c33ef8890>"
      ]
     },
     "execution_count": 881,
     "metadata": {},
     "output_type": "execute_result"
    },
    {
     "data": {
      "image/png": "[encoded data removed]",
      "text/plain": [
       "<Figure size 432x288 with 1 Axes>"
      ]
     },
     "metadata": {
      "needs_background": "light"
     },
     "output_type": "display_data"
    }
   ],
   "source": [
    "#identify outliers\n",
    "cig_mean, cig_std = mean(data[\"cigsPerDay\"]), std(data[\"cigsPerDay\"])\n",
    "cut_off = cig_std * 3\n",
    "lower, upper = cig_mean - cut_off, cig_mean + cut_off\n",
    "\n",
    "outliers=[]\n",
    "for x in data[\"cigsPerDay\"]:\n",
    "    if x < lower or x > upper:\n",
    "        outliers.append(x)\n",
    "        \n",
    "outliers\n",
    "sns.boxplot(data[\"cigsPerDay\"] ) "
   ]
  },
  {
   "cell_type": "code",
   "execution_count": 882,
   "metadata": {},
   "outputs": [
    {
     "name": "stderr",
     "output_type": "stream",
     "text": [
      "/Users/zhengjiaxin/opt/anaconda3/lib/python3.7/site-packages/numpy/lib/histograms.py:829: RuntimeWarning: invalid value encountered in greater_equal\n",
      "  keep = (tmp_a >= first_edge)\n",
      "/Users/zhengjiaxin/opt/anaconda3/lib/python3.7/site-packages/numpy/lib/histograms.py:830: RuntimeWarning: invalid value encountered in less_equal\n",
      "  keep &= (tmp_a <= last_edge)\n"
     ]
    },
    {
     "data": {
      "text/plain": [
       "(array([2.478e+03, 3.070e+02, 9.660e+02, 6.100e+01, 2.190e+02, 1.030e+02,\n",
       "        5.900e+01, 6.000e+00, 1.100e+01, 1.000e+00]),\n",
       " array([ 0.,  7., 14., 21., 28., 35., 42., 49., 56., 63., 70.]),\n",
       " <a list of 10 Patch objects>)"
      ]
     },
     "execution_count": 882,
     "metadata": {},
     "output_type": "execute_result"
    },
    {
     "data": {
      "image/png": "[encoded data removed]",
      "text/plain": [
       "<Figure size 432x288 with 1 Axes>"
      ]
     },
     "metadata": {
      "needs_background": "light"
     },
     "output_type": "display_data"
    }
   ],
   "source": [
    "#plot cigPerDay: shows right-skewed\n",
    "plt.hist(data['cigsPerDay'], alpha=0.5)"
   ]
  },
  {
   "cell_type": "code",
   "execution_count": 883,
   "metadata": {},
   "outputs": [],
   "source": [
    "#because the col has outliers, so I will fill missing values with median. \n",
    "data[\"cigsPerDay\"].fillna(data['cigsPerDay'].median(),inplace=True)"
   ]
  },
  {
   "cell_type": "markdown",
   "metadata": {},
   "source": [
    "### 3. BPMeds: replace with most common value"
   ]
  },
  {
   "cell_type": "code",
   "execution_count": 884,
   "metadata": {},
   "outputs": [
    {
     "data": {
      "text/plain": [
       "0.0    4063\n",
       "1.0     124\n",
       "Name: BPMeds, dtype: int64"
      ]
     },
     "execution_count": 884,
     "metadata": {},
     "output_type": "execute_result"
    }
   ],
   "source": [
    "data['BPMeds'].value_counts()"
   ]
  },
  {
   "cell_type": "code",
   "execution_count": 885,
   "metadata": {},
   "outputs": [],
   "source": [
    "#replace missing values with \"0.0\"\n",
    "def replace_most_common(x):\n",
    "    if pd.isnull(x):\n",
    "        return 0.0\n",
    "    else:\n",
    "        return x\n",
    "data['BPMeds'] = data['BPMeds'].map(replace_most_common)"
   ]
  },
  {
   "cell_type": "code",
   "execution_count": 886,
   "metadata": {},
   "outputs": [
    {
     "data": {
      "text/plain": [
       "0.0    4116\n",
       "1.0     124\n",
       "Name: BPMeds, dtype: int64"
      ]
     },
     "execution_count": 886,
     "metadata": {},
     "output_type": "execute_result"
    }
   ],
   "source": [
    "data['BPMeds'].value_counts()"
   ]
  },
  {
   "cell_type": "markdown",
   "metadata": {},
   "source": [
    "### 4. totChol "
   ]
  },
  {
   "cell_type": "code",
   "execution_count": 887,
   "metadata": {},
   "outputs": [
    {
     "data": {
      "text/plain": [
       "<matplotlib.axes._subplots.AxesSubplot at 0x1c321f6f50>"
      ]
     },
     "execution_count": 887,
     "metadata": {},
     "output_type": "execute_result"
    },
    {
     "data": {
      "image/png": "[encoded data removed]",
      "text/plain": [
       "<Figure size 432x288 with 1 Axes>"
      ]
     },
     "metadata": {
      "needs_background": "light"
     },
     "output_type": "display_data"
    }
   ],
   "source": [
    "#identify outliers\n",
    "totChol_mean, totChol_std = mean(data[\"totChol\"]), std(data[\"totChol\"])\n",
    "cut_off = totChol_std * 3\n",
    "lower, upper = totChol_mean - cut_off, totChol_mean + cut_off\n",
    "\n",
    "outliers=[]\n",
    "for x in data[\"totChol\"]:\n",
    "    if x < lower or x > upper:\n",
    "        outliers.append(x)\n",
    "        \n",
    "outliers\n",
    "sns.boxplot(data[\"totChol\"] )"
   ]
  },
  {
   "cell_type": "code",
   "execution_count": 888,
   "metadata": {},
   "outputs": [
    {
     "data": {
      "text/plain": [
       "240.0    85\n",
       "220.0    70\n",
       "260.0    62\n",
       "210.0    61\n",
       "232.0    59\n",
       "         ..\n",
       "107.0     1\n",
       "338.0     1\n",
       "364.0     1\n",
       "398.0     1\n",
       "405.0     1\n",
       "Name: totChol, Length: 248, dtype: int64"
      ]
     },
     "execution_count": 888,
     "metadata": {},
     "output_type": "execute_result"
    }
   ],
   "source": [
    "data['totChol'].value_counts()"
   ]
  },
  {
   "cell_type": "code",
   "execution_count": 889,
   "metadata": {},
   "outputs": [
    {
     "name": "stderr",
     "output_type": "stream",
     "text": [
      "/Users/zhengjiaxin/opt/anaconda3/lib/python3.7/site-packages/numpy/lib/histograms.py:829: RuntimeWarning: invalid value encountered in greater_equal\n",
      "  keep = (tmp_a >= first_edge)\n",
      "/Users/zhengjiaxin/opt/anaconda3/lib/python3.7/site-packages/numpy/lib/histograms.py:830: RuntimeWarning: invalid value encountered in less_equal\n",
      "  keep &= (tmp_a <= last_edge)\n"
     ]
    },
    {
     "data": {
      "text/plain": [
       "(array([1.640e+02, 1.555e+03, 1.898e+03, 5.030e+02, 6.000e+01, 7.000e+00,\n",
       "        1.000e+00, 0.000e+00, 1.000e+00, 1.000e+00]),\n",
       " array([107. , 165.9, 224.8, 283.7, 342.6, 401.5, 460.4, 519.3, 578.2,\n",
       "        637.1, 696. ]),\n",
       " <a list of 10 Patch objects>)"
      ]
     },
     "execution_count": 889,
     "metadata": {},
     "output_type": "execute_result"
    },
    {
     "data": {
      "image/png": "[encoded data removed]",
      "text/plain": [
       "<Figure size 432x288 with 1 Axes>"
      ]
     },
     "metadata": {
      "needs_background": "light"
     },
     "output_type": "display_data"
    }
   ],
   "source": [
    "plt.hist(data['totChol'], alpha=0.5)"
   ]
  },
  {
   "cell_type": "code",
   "execution_count": 890,
   "metadata": {},
   "outputs": [
    {
     "data": {
      "text/plain": [
       "234.0    90\n",
       "240.0    85\n",
       "220.0    70\n",
       "260.0    62\n",
       "210.0    61\n",
       "         ..\n",
       "107.0     1\n",
       "338.0     1\n",
       "364.0     1\n",
       "398.0     1\n",
       "405.0     1\n",
       "Name: totChol, Length: 248, dtype: int64"
      ]
     },
     "execution_count": 890,
     "metadata": {},
     "output_type": "execute_result"
    }
   ],
   "source": [
    "#Right skewed, fillna with median. \n",
    "data[\"totChol\"].fillna(data['totChol'].median(),inplace=True)\n",
    "data['totChol'].value_counts()"
   ]
  },
  {
   "cell_type": "markdown",
   "metadata": {},
   "source": [
    "### 5. BMI: replace with median"
   ]
  },
  {
   "cell_type": "code",
   "execution_count": 891,
   "metadata": {},
   "outputs": [
    {
     "data": {
      "text/plain": [
       "<matplotlib.axes._subplots.AxesSubplot at 0x1c29acdc90>"
      ]
     },
     "execution_count": 891,
     "metadata": {},
     "output_type": "execute_result"
    },
    {
     "data": {
      "image/png": "[encoded data removed]",
      "text/plain": [
       "<Figure size 432x288 with 1 Axes>"
      ]
     },
     "metadata": {
      "needs_background": "light"
     },
     "output_type": "display_data"
    }
   ],
   "source": [
    "#identify outliers\n",
    "BMI_mean, BMI_std = mean(data[\"BMI\"]), std(data[\"BMI\"])\n",
    "cut_off = BMI_std * 3\n",
    "lower, upper =BMI_mean - cut_off, BMI_mean + cut_off\n",
    "\n",
    "outliers=[]\n",
    "for x in data[\"BMI\"]:\n",
    "    if x < lower or x > upper:\n",
    "        outliers.append(x)\n",
    "        \n",
    "#outliers\n",
    "sns.boxplot(data[\"totChol\"] )"
   ]
  },
  {
   "cell_type": "code",
   "execution_count": 892,
   "metadata": {},
   "outputs": [
    {
     "name": "stderr",
     "output_type": "stream",
     "text": [
      "/Users/zhengjiaxin/opt/anaconda3/lib/python3.7/site-packages/numpy/lib/histograms.py:829: RuntimeWarning: invalid value encountered in greater_equal\n",
      "  keep = (tmp_a >= first_edge)\n",
      "/Users/zhengjiaxin/opt/anaconda3/lib/python3.7/site-packages/numpy/lib/histograms.py:830: RuntimeWarning: invalid value encountered in less_equal\n",
      "  keep &= (tmp_a <= last_edge)\n"
     ]
    },
    {
     "data": {
      "text/plain": [
       "(array([1.580e+02, 1.211e+03, 1.751e+03, 8.240e+02, 1.960e+02, 5.800e+01,\n",
       "        1.700e+01, 4.000e+00, 1.000e+00, 1.000e+00]),\n",
       " array([15.54 , 19.666, 23.792, 27.918, 32.044, 36.17 , 40.296, 44.422,\n",
       "        48.548, 52.674, 56.8  ]),\n",
       " <a list of 10 Patch objects>)"
      ]
     },
     "execution_count": 892,
     "metadata": {},
     "output_type": "execute_result"
    },
    {
     "data": {
      "image/png": "[encoded data removed]",
      "text/plain": [
       "<Figure size 432x288 with 1 Axes>"
      ]
     },
     "metadata": {
      "needs_background": "light"
     },
     "output_type": "display_data"
    }
   ],
   "source": [
    "plt.hist(data['BMI'], alpha=0.5)"
   ]
  },
  {
   "cell_type": "code",
   "execution_count": 893,
   "metadata": {},
   "outputs": [],
   "source": [
    "#because it has outliers, replace missing values with median\n",
    "data[\"BMI\"].fillna(data['BMI'].median(),inplace=True)"
   ]
  },
  {
   "cell_type": "markdown",
   "metadata": {},
   "source": [
    "### 6. HeartRate\n"
   ]
  },
  {
   "cell_type": "code",
   "execution_count": 894,
   "metadata": {},
   "outputs": [
    {
     "data": {
      "text/plain": [
       "<matplotlib.axes._subplots.AxesSubplot at 0x1c302559d0>"
      ]
     },
     "execution_count": 894,
     "metadata": {},
     "output_type": "execute_result"
    },
    {
     "data": {
      "image/png": "[encoded data removed]",
      "text/plain": [
       "<Figure size 432x288 with 1 Axes>"
      ]
     },
     "metadata": {
      "needs_background": "light"
     },
     "output_type": "display_data"
    }
   ],
   "source": [
    "#identify outliers\n",
    "BMI_mean, BMI_std = mean(data[\"BMI\"]), std(data[\"BMI\"])\n",
    "cut_off = BMI_std * 3\n",
    "lower, upper =BMI_mean - cut_off, BMI_mean + cut_off\n",
    "\n",
    "outliers=[]\n",
    "for x in data[\"BMI\"]:\n",
    "    if x < lower or x > upper:\n",
    "        outliers.append(x)\n",
    "\n",
    "sns.boxplot(data[\"heartRate\"] )"
   ]
  },
  {
   "cell_type": "code",
   "execution_count": 895,
   "metadata": {},
   "outputs": [
    {
     "name": "stderr",
     "output_type": "stream",
     "text": [
      "/Users/zhengjiaxin/opt/anaconda3/lib/python3.7/site-packages/numpy/lib/histograms.py:829: RuntimeWarning: invalid value encountered in greater_equal\n",
      "  keep = (tmp_a >= first_edge)\n",
      "/Users/zhengjiaxin/opt/anaconda3/lib/python3.7/site-packages/numpy/lib/histograms.py:830: RuntimeWarning: invalid value encountered in less_equal\n",
      "  keep &= (tmp_a <= last_edge)\n"
     ]
    },
    {
     "data": {
      "text/plain": [
       "(array([  61.,  538., 1261., 1357.,  646.,  286.,   70.,   14.,    4.,\n",
       "           2.]),\n",
       " array([ 44. ,  53.9,  63.8,  73.7,  83.6,  93.5, 103.4, 113.3, 123.2,\n",
       "        133.1, 143. ]),\n",
       " <a list of 10 Patch objects>)"
      ]
     },
     "execution_count": 895,
     "metadata": {},
     "output_type": "execute_result"
    },
    {
     "data": {
      "image/png": "[encoded data removed]",
      "text/plain": [
       "<Figure size 432x288 with 1 Axes>"
      ]
     },
     "metadata": {
      "needs_background": "light"
     },
     "output_type": "display_data"
    }
   ],
   "source": [
    "plt.hist(data['heartRate'], alpha=0.5)"
   ]
  },
  {
   "cell_type": "code",
   "execution_count": 896,
   "metadata": {},
   "outputs": [],
   "source": [
    "#replace with mean\n",
    "data[\"heartRate\"].fillna(data['heartRate'].mean(),inplace=True)"
   ]
  },
  {
   "cell_type": "markdown",
   "metadata": {},
   "source": [
    "### 7. glucose "
   ]
  },
  {
   "cell_type": "code",
   "execution_count": 897,
   "metadata": {},
   "outputs": [
    {
     "data": {
      "text/plain": [
       "<matplotlib.axes._subplots.AxesSubplot at 0x1c34200d10>"
      ]
     },
     "execution_count": 897,
     "metadata": {},
     "output_type": "execute_result"
    },
    {
     "data": {
      "image/png": "[encoded data removed]",
      "text/plain": [
       "<Figure size 432x288 with 1 Axes>"
      ]
     },
     "metadata": {
      "needs_background": "light"
     },
     "output_type": "display_data"
    }
   ],
   "source": [
    "#identify outliers\n",
    "glucose_mean, glucose_std = mean(data[\"glucose\"]), std(data[\"glucose\"])\n",
    "cut_off = glucose_std * 3\n",
    "lower, upper = glucose_mean - cut_off, glucose_mean + cut_off\n",
    "\n",
    "outliers=[]\n",
    "for x in data[\"glucose\"]:\n",
    "    if x < lower or x > upper:\n",
    "        outliers.append(x)\n",
    "        \n",
    "outliers\n",
    "sns.boxplot(data[\"glucose\"] )"
   ]
  },
  {
   "cell_type": "code",
   "execution_count": 898,
   "metadata": {},
   "outputs": [
    {
     "name": "stderr",
     "output_type": "stream",
     "text": [
      "/Users/zhengjiaxin/opt/anaconda3/lib/python3.7/site-packages/numpy/lib/histograms.py:829: RuntimeWarning: invalid value encountered in greater_equal\n",
      "  keep = (tmp_a >= first_edge)\n",
      "/Users/zhengjiaxin/opt/anaconda3/lib/python3.7/site-packages/numpy/lib/histograms.py:830: RuntimeWarning: invalid value encountered in less_equal\n",
      "  keep &= (tmp_a <= last_edge)\n"
     ]
    },
    {
     "data": {
      "text/plain": [
       "(array([1573., 2098.,  127.,   16.,   13.,    6.,    7.,    4.,    3.,\n",
       "           5.]),\n",
       " array([ 40. ,  75.4, 110.8, 146.2, 181.6, 217. , 252.4, 287.8, 323.2,\n",
       "        358.6, 394. ]),\n",
       " <a list of 10 Patch objects>)"
      ]
     },
     "execution_count": 898,
     "metadata": {},
     "output_type": "execute_result"
    },
    {
     "data": {
      "image/png": "[encoded data removed]",
      "text/plain": [
       "<Figure size 432x288 with 1 Axes>"
      ]
     },
     "metadata": {
      "needs_background": "light"
     },
     "output_type": "display_data"
    }
   ],
   "source": [
    "plt.hist(data['glucose'], alpha=0.5)"
   ]
  },
  {
   "cell_type": "code",
   "execution_count": 899,
   "metadata": {},
   "outputs": [],
   "source": [
    "#the graph shows outlier, replace missing value with median\n",
    "data['glucose'].fillna(data['glucose'].median(), inplace=True)"
   ]
  },
  {
   "cell_type": "markdown",
   "metadata": {},
   "source": [
    "# Split data to X and y"
   ]
  },
  {
   "cell_type": "code",
   "execution_count": 900,
   "metadata": {},
   "outputs": [],
   "source": [
    "#from sklearn.model_selection import train_test_split\n",
    "X=data.iloc[:,:-1].values\n",
    "y=data.iloc[:,-1].values"
   ]
  },
  {
   "cell_type": "code",
   "execution_count": 901,
   "metadata": {},
   "outputs": [
    {
     "name": "stdout",
     "output_type": "stream",
     "text": [
      "<class 'pandas.core.frame.DataFrame'>\n",
      "RangeIndex: 4240 entries, 0 to 4239\n",
      "Data columns (total 16 columns):\n",
      "male               4240 non-null int64\n",
      "age                4240 non-null int64\n",
      "education          4240 non-null float64\n",
      "currentSmoker      4240 non-null int64\n",
      "cigsPerDay         4240 non-null float64\n",
      "BPMeds             4240 non-null float64\n",
      "prevalentStroke    4240 non-null int64\n",
      "prevalentHyp       4240 non-null int64\n",
      "diabetes           4240 non-null int64\n",
      "totChol            4240 non-null float64\n",
      "sysBP              4240 non-null float64\n",
      "diaBP              4240 non-null float64\n",
      "BMI                4240 non-null float64\n",
      "heartRate          4240 non-null float64\n",
      "glucose            4240 non-null float64\n",
      "TenYearCHD         4240 non-null int64\n",
      "dtypes: float64(9), int64(7)\n",
      "memory usage: 530.1 KB\n"
     ]
    }
   ],
   "source": [
    "data.info() #shows no missing values"
   ]
  },
  {
   "cell_type": "markdown",
   "metadata": {},
   "source": [
    "# Feature Selection "
   ]
  },
  {
   "cell_type": "markdown",
   "metadata": {},
   "source": [
    "### 1.PCA"
   ]
  },
  {
   "cell_type": "markdown",
   "metadata": {},
   "source": [
    "### 2. Backward elimination: before append column of ones, X has 15 columns"
   ]
  },
  {
   "cell_type": "code",
   "execution_count": 906,
   "metadata": {},
   "outputs": [
    {
     "data": {
      "text/plain": [
       "(4240, 15)"
      ]
     },
     "execution_count": 906,
     "metadata": {},
     "output_type": "execute_result"
    }
   ],
   "source": [
    "X.shape"
   ]
  },
  {
   "cell_type": "markdown",
   "metadata": {},
   "source": [
    "---------------------------------------------------------------------------------\n",
    "Before we begin with Backward elimination, we need to append ‘1’ at the beginning of our data set. Now, why is this important?\n",
    "For performing Backward elimination, we are required to use the linear model provided by statsmodels library — which does not consider the bias term. Hence, by adding a dummy feature with value as ‘1’, our equation becomes y=b.x0+m1.x1+m2.x2+m3.x3+m4.x4 where x0 = 1."
   ]
  },
  {
   "cell_type": "code",
   "execution_count": 907,
   "metadata": {},
   "outputs": [
    {
     "name": "stdout",
     "output_type": "stream",
     "text": [
      "before Elimination, there are 16 columns\n"
     ]
    }
   ],
   "source": [
    "#append column of ones\n",
    "X_with_ones= np.append (arr=np.ones([X.shape[0],1]).astype(int), values = X, axis = 1)\n",
    "print(\"before Elimination, there are\",X_with_ones.shape[1],\"columns\")"
   ]
  },
  {
   "cell_type": "code",
   "execution_count": 908,
   "metadata": {},
   "outputs": [],
   "source": [
    "import statsmodels.api as sm\n",
    "def backwardElimination(x, sl):\n",
    "    numVars= len(x[0])\n",
    "    for i in range(0, numVars):\n",
    "        obj_OLS= sm.OLS(y, x).fit()\n",
    "        maxVar= max(obj_OLS.pvalues).astype(float)\n",
    "        if maxVar> sl:\n",
    "            for j in range(0, numVars-i):\n",
    "                if (obj_OLS.pvalues[j].astype(float) == maxVar):\n",
    "                    x = np.delete(x, j, 1)\n",
    "    obj_OLS.summary()\n",
    "    return x"
   ]
  },
  {
   "cell_type": "code",
   "execution_count": 909,
   "metadata": {},
   "outputs": [
    {
     "name": "stdout",
     "output_type": "stream",
     "text": [
      "after backward elimination, there are 7 columns left.\n"
     ]
    }
   ],
   "source": [
    "SL=0.05\n",
    "X_modeled=backwardElimination(X_with_ones, SL)\n",
    "X_modeled.shape\n",
    "print(\"after backward elimination, there are 7 columns left.\")"
   ]
  },
  {
   "cell_type": "code",
   "execution_count": 910,
   "metadata": {},
   "outputs": [
    {
     "name": "stdout",
     "output_type": "stream",
     "text": [
      "X_modeled is not a dataframe\n"
     ]
    }
   ],
   "source": [
    "#X_modeled=pd.DataFrame(X_modeled)\n",
    "if isinstance(X_modeled, pd.DataFrame):\n",
    "    print(\"X_modeled it is a dataframe\")\n",
    "else:\n",
    "    print(\"X_modeled is not a dataframe\")"
   ]
  },
  {
   "cell_type": "markdown",
   "metadata": {},
   "source": [
    "# Split Data"
   ]
  },
  {
   "cell_type": "code",
   "execution_count": 911,
   "metadata": {},
   "outputs": [],
   "source": [
    "from sklearn.model_selection import train_test_split\n",
    "X_train, X_test, y_train, y_test=train_test_split(X_modeled,y,test_size=0.25)"
   ]
  },
  {
   "cell_type": "markdown",
   "metadata": {},
   "source": [
    "# Model 1 - SVM"
   ]
  },
  {
   "cell_type": "markdown",
   "metadata": {},
   "source": [
    "### SVM - validation "
   ]
  },
  {
   "cell_type": "code",
   "execution_count": 912,
   "metadata": {},
   "outputs": [
    {
     "name": "stdout",
     "output_type": "stream",
     "text": [
      "84.15094339622642\n"
     ]
    }
   ],
   "source": [
    "svc = SVC(kernel=\"rbf\",gamma='auto')\n",
    "svc.fit(X_train, y_train)\n",
    "predict_svc=svc.predict(X_test)\n",
    "SVM_score=svc.score(X_test, y_test)*100\n",
    "print(SVM_score)#validation"
   ]
  },
  {
   "cell_type": "markdown",
   "metadata": {},
   "source": [
    "### SVM - KFold cross validation"
   ]
  },
  {
   "cell_type": "code",
   "execution_count": 913,
   "metadata": {},
   "outputs": [
    {
     "name": "stdout",
     "output_type": "stream",
     "text": [
      "Fold 1 accuracy: 81.13207547169812\n",
      "Fold 2 accuracy: 84.90566037735849\n",
      "Fold 3 accuracy: 85.14150943396226\n",
      "Fold 4 accuracy: 87.5\n",
      "Fold 5 accuracy: 84.43396226415094\n",
      "Fold 6 accuracy: 83.9622641509434\n",
      "Fold 7 accuracy: 83.72641509433963\n",
      "Fold 8 accuracy: 84.90566037735849\n",
      "Fold 9 accuracy: 85.61320754716981\n",
      "Fold 10 accuracy: 83.49056603773585\n",
      "Mean Accuracy: 84.48113207547169\n"
     ]
    },
    {
     "data": {
      "text/plain": [
       "84.48113207547169"
      ]
     },
     "execution_count": 913,
     "metadata": {},
     "output_type": "execute_result"
    }
   ],
   "source": [
    "from sklearn.model_selection import KFold\n",
    "\n",
    "def run_kfold(svc):\n",
    "    kf = KFold(n_splits=10)\n",
    "    outcomes = []\n",
    "    fold = 0\n",
    "    for train_index, test_index in kf.split(X_modeled):\n",
    "        fold += 1\n",
    "        X_train, X_test = X_modeled[train_index], X_modeled[test_index]\n",
    "        y_train, y_test = y[train_index], y[test_index]\n",
    "        svc.fit(X_train, y_train)\n",
    "        accuracy_svc = svc.score(X_test, y_test)*100\n",
    "        outcomes.append(accuracy_svc)\n",
    "        print(\"Fold {0} accuracy: {1}\".format(fold, accuracy_svc))     \n",
    "    mean_outcome_svc = np.mean(outcomes)\n",
    "    print(\"Mean Accuracy: {0}\".format(mean_outcome_svc)) #KFold cross validation\n",
    "    return(mean_outcome_svc)\n",
    "    \n",
    "\n",
    "svc_KFoldScore=run_kfold(svc)\n",
    "svc_KFoldScore"
   ]
  },
  {
   "cell_type": "markdown",
   "metadata": {},
   "source": [
    "### confusion matrix - svm"
   ]
  },
  {
   "cell_type": "code",
   "execution_count": 914,
   "metadata": {},
   "outputs": [
    {
     "name": "stdout",
     "output_type": "stream",
     "text": [
      "[[892   3]\n",
      " [165   0]]\n"
     ]
    },
    {
     "data": {
      "text/plain": [
       "(2.0, 0.0)"
      ]
     },
     "execution_count": 914,
     "metadata": {},
     "output_type": "execute_result"
    },
    {
     "data": {
      "image/png": "[encoded data removed]",
      "text/plain": [
       "<Figure size 432x288 with 2 Axes>"
      ]
     },
     "metadata": {
      "needs_background": "light"
     },
     "output_type": "display_data"
    }
   ],
   "source": [
    "results_svm = confusion_matrix(y_test, predict_svc) \n",
    "print(results_svm)\n",
    "ax=sns.heatmap(results_csv,linewidths=1,vmax=1000,\n",
    "            square=True, cmap=\"Blues\",annot=True)\n",
    "#if i don't run the next 2 lines of code, the heatmap will be cut off.\n",
    "bottom, top = ax.get_ylim()\n",
    "ax.set_ylim(bottom + 0.5, top - 0.5)"
   ]
  },
  {
   "cell_type": "markdown",
   "metadata": {},
   "source": [
    "# Model 2 - Logistic Regression"
   ]
  },
  {
   "cell_type": "markdown",
   "metadata": {},
   "source": [
    "### LR - Validation "
   ]
  },
  {
   "cell_type": "code",
   "execution_count": 915,
   "metadata": {},
   "outputs": [
    {
     "name": "stdout",
     "output_type": "stream",
     "text": [
      "85.28301886792453\n"
     ]
    }
   ],
   "source": [
    "logreg = LogisticRegression(solver=\"lbfgs\",max_iter=300)#if i don't set solver and max_iter, there will be an warning.\n",
    "logreg.fit(X_train,y_train)\n",
    "predict_logreg=logreg.predict(X_test)\n",
    "Logistic_regression_score=logreg.score(X_test, y_test)*100\n",
    "print(Logistic_regression_score)"
   ]
  },
  {
   "cell_type": "markdown",
   "metadata": {},
   "source": [
    "### LR - Kfold cross validation"
   ]
  },
  {
   "cell_type": "code",
   "execution_count": 916,
   "metadata": {},
   "outputs": [
    {
     "name": "stdout",
     "output_type": "stream",
     "text": [
      "Fold 1 accuracy: 81.36792452830188\n",
      "Fold 2 accuracy: 85.84905660377359\n",
      "Fold 3 accuracy: 85.84905660377359\n",
      "Fold 4 accuracy: 87.97169811320755\n",
      "Fold 5 accuracy: 85.84905660377359\n",
      "Fold 6 accuracy: 83.9622641509434\n",
      "Fold 7 accuracy: 86.55660377358491\n",
      "Fold 8 accuracy: 86.08490566037736\n",
      "Fold 9 accuracy: 86.08490566037736\n",
      "Fold 10 accuracy: 83.9622641509434\n",
      "Mean Accuracy: 85.35377358490565\n"
     ]
    }
   ],
   "source": [
    "def run_kfold(logreg):\n",
    "    kf = KFold(n_splits=10)\n",
    "    outcomes = []\n",
    "    fold = 0\n",
    "    for train_index, test_index in kf.split(X_modeled):\n",
    "        fold += 1\n",
    "        X_train, X_test = X_modeled[train_index], X_modeled[test_index]\n",
    "        y_train, y_test = y[train_index], y[test_index]\n",
    "        logreg.fit(X_train, y_train)\n",
    "        accuracy_lr = logreg.score(X_test, y_test)*100\n",
    "        outcomes.append(accuracy_lr)\n",
    "        print(\"Fold {0} accuracy: {1}\".format(fold, accuracy_lr))     \n",
    "    mean_outcome_logistic_regression = np.mean(outcomes)\n",
    "    print(\"Mean Accuracy: {0}\".format(mean_outcome_logistic_regression)) #KFold cross validation\n",
    "    return(mean_outcome_logistic_regression)\n",
    "logreg_Kfoldscore=run_kfold(logreg)"
   ]
  },
  {
   "cell_type": "markdown",
   "metadata": {},
   "source": [
    "### confusion matrix - logistic regression"
   ]
  },
  {
   "cell_type": "code",
   "execution_count": 917,
   "metadata": {},
   "outputs": [
    {
     "name": "stdout",
     "output_type": "stream",
     "text": [
      "[[889   6]\n",
      " [150  15]]\n"
     ]
    },
    {
     "data": {
      "text/plain": [
       "(2.0, 0.0)"
      ]
     },
     "execution_count": 917,
     "metadata": {},
     "output_type": "execute_result"
    },
    {
     "data": {
      "image/png": "[encoded data removed]",
      "text/plain": [
       "<Figure size 432x288 with 2 Axes>"
      ]
     },
     "metadata": {
      "needs_background": "light"
     },
     "output_type": "display_data"
    }
   ],
   "source": [
    "results_lr = confusion_matrix(y_test, predict_logreg) \n",
    "print(results_lr)\n",
    "ax=sns.heatmap(results_lr,linewidths=1,vmax=1000,\n",
    "            square=True, cmap=\"Blues\",annot=True)\n",
    "#if i don't run the next 2 lines of code, the heatmap will be cut off.\n",
    "bottom, top = ax.get_ylim()\n",
    "ax.set_ylim(bottom + 0.5, top - 0.5)"
   ]
  },
  {
   "cell_type": "markdown",
   "metadata": {},
   "source": [
    "# Model 3 - KNN"
   ]
  },
  {
   "cell_type": "markdown",
   "metadata": {},
   "source": [
    "### KNN Validation"
   ]
  },
  {
   "cell_type": "code",
   "execution_count": 918,
   "metadata": {},
   "outputs": [
    {
     "name": "stdout",
     "output_type": "stream",
     "text": [
      "81.88679245283019\n"
     ]
    }
   ],
   "source": [
    "knn = KNeighborsClassifier(n_neighbors = 3)\n",
    "knn.fit(X_train, y_train)\n",
    "predict_knn=knn.predict(X_test)\n",
    "knn_score =knn.score(X_test, y_test) * 100\n",
    "print(knn_score)"
   ]
  },
  {
   "cell_type": "markdown",
   "metadata": {},
   "source": [
    "### KNN - Kfold cross validation"
   ]
  },
  {
   "cell_type": "code",
   "execution_count": 919,
   "metadata": {},
   "outputs": [
    {
     "name": "stdout",
     "output_type": "stream",
     "text": [
      "Fold 1 accuracy: 77.12264150943396\n",
      "Fold 2 accuracy: 83.01886792452831\n",
      "Fold 3 accuracy: 82.78301886792453\n",
      "Fold 4 accuracy: 83.49056603773585\n",
      "Fold 5 accuracy: 83.01886792452831\n",
      "Fold 6 accuracy: 80.66037735849056\n",
      "Fold 7 accuracy: 83.01886792452831\n",
      "Fold 8 accuracy: 83.9622641509434\n",
      "Fold 9 accuracy: 82.31132075471697\n",
      "Fold 10 accuracy: 81.36792452830188\n",
      "Mean Accuracy: 82.0754716981132\n"
     ]
    }
   ],
   "source": [
    "def run_kfold(knn):\n",
    "    kf = KFold(n_splits=10)\n",
    "    outcomes = []\n",
    "    fold = 0\n",
    "    for train_index, test_index in kf.split(X_modeled):\n",
    "        fold += 1\n",
    "        X_train, X_test = X_modeled[train_index], X_modeled[test_index]\n",
    "        y_train, y_test = y[train_index], y[test_index]\n",
    "        knn.fit(X_train, y_train)\n",
    "        accuracy_knn = knn.score(X_test, y_test)*100\n",
    "        outcomes.append(accuracy_knn)\n",
    "        print(\"Fold {0} accuracy: {1}\".format(fold, accuracy_knn))     \n",
    "    mean_outcome_knn = np.mean(outcomes)\n",
    "    print(\"Mean Accuracy: {0}\".format(mean_outcome_knn)) #KFold cross validation\n",
    "    return(mean_outcome_knn)\n",
    "\n",
    "knn_Kfoldscore=run_kfold(knn)\n"
   ]
  },
  {
   "cell_type": "markdown",
   "metadata": {},
   "source": [
    "### confusion matrix - knn"
   ]
  },
  {
   "cell_type": "code",
   "execution_count": 920,
   "metadata": {},
   "outputs": [
    {
     "name": "stdout",
     "output_type": "stream",
     "text": [
      "[[842  53]\n",
      " [139  26]]\n"
     ]
    },
    {
     "data": {
      "text/plain": [
       "(2.0, 0.0)"
      ]
     },
     "execution_count": 920,
     "metadata": {},
     "output_type": "execute_result"
    },
    {
     "data": {
      "image/png": "[encoded data removed]",
      "text/plain": [
       "<Figure size 432x288 with 2 Axes>"
      ]
     },
     "metadata": {
      "needs_background": "light"
     },
     "output_type": "display_data"
    }
   ],
   "source": [
    "results_knn = confusion_matrix(y_test, predict_knn) \n",
    "print(results_knn)\n",
    "ax=sns.heatmap(results_knn,linewidths=1,vmax=1000,\n",
    "            square=True, cmap=\"Blues\",annot=True)\n",
    "#if i don't run the next 2 lines of code, the heatmap will be cut off.\n",
    "bottom, top = ax.get_ylim()\n",
    "ax.set_ylim(bottom + 0.5, top - 0.5)"
   ]
  },
  {
   "cell_type": "markdown",
   "metadata": {},
   "source": [
    "# Model 4 - Decission Tree"
   ]
  },
  {
   "cell_type": "markdown",
   "metadata": {},
   "source": [
    "### Decession Tree validation"
   ]
  },
  {
   "cell_type": "code",
   "execution_count": 921,
   "metadata": {},
   "outputs": [
    {
     "name": "stdout",
     "output_type": "stream",
     "text": [
      "76.50943396226415\n"
     ]
    }
   ],
   "source": [
    "from sklearn.tree import DecisionTreeClassifier\n",
    "decision_tree = DecisionTreeClassifier()\n",
    "decision_tree.fit(X_train, y_train)\n",
    "predict_decision=decision_tree.predict(X_test)\n",
    "decision_tree_score=decision_tree.score(X_test, y_test) * 100\n",
    "print(decision_tree_score)"
   ]
  },
  {
   "cell_type": "markdown",
   "metadata": {},
   "source": [
    "### Decission tree Kfold cross validation "
   ]
  },
  {
   "cell_type": "code",
   "execution_count": 922,
   "metadata": {},
   "outputs": [
    {
     "name": "stdout",
     "output_type": "stream",
     "text": [
      "Fold 1 accuracy: 70.75471698113208\n",
      "Fold 2 accuracy: 76.88679245283019\n",
      "Fold 3 accuracy: 79.24528301886792\n",
      "Fold 4 accuracy: 78.5377358490566\n",
      "Fold 5 accuracy: 72.64150943396226\n",
      "Fold 6 accuracy: 75.23584905660378\n",
      "Fold 7 accuracy: 72.87735849056604\n",
      "Fold 8 accuracy: 73.82075471698113\n",
      "Fold 9 accuracy: 73.11320754716981\n",
      "Fold 10 accuracy: 77.35849056603774\n",
      "Mean Accuracy: 75.04716981132076\n"
     ]
    }
   ],
   "source": [
    "def run_kfold(decision_tree):\n",
    "    kf = KFold(n_splits=10)\n",
    "    outcomes = []\n",
    "    fold = 0\n",
    "    for train_index, test_index in kf.split(X_modeled):\n",
    "        fold += 1\n",
    "        X_train, X_test = X_modeled[train_index], X_modeled[test_index]\n",
    "        y_train, y_test = y[train_index], y[test_index]\n",
    "        decision_tree.fit(X_train, y_train)\n",
    "        accuracy_decision_tree = decision_tree.score(X_test, y_test)*100\n",
    "        outcomes.append(accuracy_decision_tree)\n",
    "        print(\"Fold {0} accuracy: {1}\".format(fold, accuracy_decision_tree))     \n",
    "    mean_outcome_decision_tree = np.mean(outcomes)\n",
    "    print(\"Mean Accuracy: {0}\".format(mean_outcome_decision_tree)) #KFold cross validation\n",
    "    return(mean_outcome_decision_tree)\n",
    "\n",
    "DT_Kfoldscore=run_kfold(decision_tree)"
   ]
  },
  {
   "cell_type": "markdown",
   "metadata": {},
   "source": [
    "### confusion matrix - decision tree"
   ]
  },
  {
   "cell_type": "code",
   "execution_count": 923,
   "metadata": {},
   "outputs": [
    {
     "name": "stdout",
     "output_type": "stream",
     "text": [
      "[[761 134]\n",
      " [115  50]]\n"
     ]
    },
    {
     "data": {
      "text/plain": [
       "(2.0, 0.0)"
      ]
     },
     "execution_count": 923,
     "metadata": {},
     "output_type": "execute_result"
    },
    {
     "data": {
      "image/png": "[encoded data removed]",
      "text/plain": [
       "<Figure size 432x288 with 2 Axes>"
      ]
     },
     "metadata": {
      "needs_background": "light"
     },
     "output_type": "display_data"
    }
   ],
   "source": [
    "results_decision = confusion_matrix(y_test, predict_decision) \n",
    "print(results_decision)\n",
    "ax=sns.heatmap(results_decision,linewidths=1,vmax=1000,\n",
    "            square=True, cmap=\"Blues\",annot=True)\n",
    "#if i don't run the next 2 lines of code, the heatmap will be cut off.\n",
    "bottom, top = ax.get_ylim()\n",
    "ax.set_ylim(bottom + 0.5, top - 0.5)"
   ]
  },
  {
   "cell_type": "markdown",
   "metadata": {},
   "source": [
    "# Model 5 - Naive Bayes"
   ]
  },
  {
   "cell_type": "markdown",
   "metadata": {},
   "source": [
    "### Naive Bayes - validation"
   ]
  },
  {
   "cell_type": "code",
   "execution_count": 924,
   "metadata": {},
   "outputs": [
    {
     "name": "stdout",
     "output_type": "stream",
     "text": [
      "84.0566037735849\n"
     ]
    }
   ],
   "source": [
    "from sklearn.naive_bayes import GaussianNB\n",
    "nb_Classifier_Object = GaussianNB()\n",
    "nb_Classifier_Object.fit(X_train, y_train)\n",
    "predict_nb=nb_Classifier_Object.predict(X_test)\n",
    "NB_score=nb_Classifier_Object.score(X_test,y_test)*100\n",
    "print(NB_score)"
   ]
  },
  {
   "cell_type": "markdown",
   "metadata": {},
   "source": [
    "### Naive Bayes - Kfold cross validation"
   ]
  },
  {
   "cell_type": "code",
   "execution_count": 925,
   "metadata": {},
   "outputs": [
    {
     "name": "stdout",
     "output_type": "stream",
     "text": [
      "Fold 1 accuracy: 79.95283018867924\n",
      "Fold 2 accuracy: 83.9622641509434\n",
      "Fold 3 accuracy: 84.66981132075472\n",
      "Fold 4 accuracy: 88.44339622641509\n",
      "Fold 5 accuracy: 85.61320754716981\n",
      "Fold 6 accuracy: 84.43396226415094\n",
      "Fold 7 accuracy: 84.43396226415094\n",
      "Fold 8 accuracy: 84.90566037735849\n",
      "Fold 9 accuracy: 84.66981132075472\n",
      "Fold 10 accuracy: 83.01886792452831\n",
      "Mean Accuracy: 84.41037735849055\n"
     ]
    }
   ],
   "source": [
    "           \n",
    "def run_kfold(nb_Classifier_Object):\n",
    "    kf = KFold(n_splits=10)\n",
    "    outcomes = []\n",
    "    fold = 0\n",
    "    for train_index, test_index in kf.split(X_modeled):\n",
    "        fold += 1\n",
    "        X_train, X_test = X_modeled[train_index], X_modeled[test_index]\n",
    "        y_train, y_test = y[train_index], y[test_index]\n",
    "        nb_Classifier_Object.fit(X_train, y_train)\n",
    "        accuracy_nb = nb_Classifier_Object.score(X_test, y_test)*100\n",
    "        outcomes.append(accuracy_nb)\n",
    "        print(\"Fold {0} accuracy: {1}\".format(fold, accuracy_nb))     \n",
    "    mean_outcome_nb = np.mean(outcomes)\n",
    "    print(\"Mean Accuracy: {0}\".format(mean_outcome_nb)) #KFold cross validation\n",
    "    return(mean_outcome_nb)\n",
    "\n",
    "nb_Kfoldscore=run_kfold(nb_Classifier_Object)"
   ]
  },
  {
   "cell_type": "markdown",
   "metadata": {},
   "source": [
    "### confusion matrix - naive bayes"
   ]
  },
  {
   "cell_type": "code",
   "execution_count": 926,
   "metadata": {},
   "outputs": [
    {
     "name": "stdout",
     "output_type": "stream",
     "text": [
      "[[873  22]\n",
      " [147  18]]\n"
     ]
    },
    {
     "data": {
      "text/plain": [
       "(2.0, 0.0)"
      ]
     },
     "execution_count": 926,
     "metadata": {},
     "output_type": "execute_result"
    },
    {
     "data": {
      "image/png": "[encoded data removed]",
      "text/plain": [
       "<Figure size 432x288 with 2 Axes>"
      ]
     },
     "metadata": {
      "needs_background": "light"
     },
     "output_type": "display_data"
    }
   ],
   "source": [
    "results_nb = confusion_matrix(y_test, predict_nb) \n",
    "print(results_nb)\n",
    "ax=sns.heatmap(results_nb,linewidths=1,vmax=1000,\n",
    "            square=True, cmap=\"Blues\",annot=True)\n",
    "#if i don't run the next 2 lines of code, the heatmap will be cut off.\n",
    "bottom, top = ax.get_ylim()\n",
    "ax.set_ylim(bottom + 0.5, top - 0.5)"
   ]
  },
  {
   "cell_type": "markdown",
   "metadata": {},
   "source": [
    "# Model 6 - Random Forest"
   ]
  },
  {
   "cell_type": "markdown",
   "metadata": {},
   "source": [
    "### Random Forest Validation"
   ]
  },
  {
   "cell_type": "code",
   "execution_count": 927,
   "metadata": {},
   "outputs": [
    {
     "name": "stdout",
     "output_type": "stream",
     "text": [
      "82.64150943396227\n"
     ]
    },
    {
     "name": "stderr",
     "output_type": "stream",
     "text": [
      "/Users/zhengjiaxin/opt/anaconda3/lib/python3.7/site-packages/sklearn/ensemble/forest.py:245: FutureWarning: The default value of n_estimators will change from 10 in version 0.20 to 100 in 0.22.\n",
      "  \"10 in version 0.20 to 100 in 0.22.\", FutureWarning)\n"
     ]
    }
   ],
   "source": [
    "from sklearn.ensemble import RandomForestClassifier\n",
    "rf_Classifier_Object = RandomForestClassifier()\n",
    "rf_Classifier_Object.fit(X_train, y_train)\n",
    "predict_rf=rf_Classifier_Object.predict(X_test)\n",
    "RandomForest_score=rf_Classifier_Object.score(X_test, y_test)*100\n",
    "print(RandomForest_score)\n"
   ]
  },
  {
   "cell_type": "markdown",
   "metadata": {},
   "source": [
    "### Random Forest Kfold cross validation"
   ]
  },
  {
   "cell_type": "code",
   "execution_count": 928,
   "metadata": {},
   "outputs": [
    {
     "name": "stdout",
     "output_type": "stream",
     "text": [
      "Fold 1 accuracy: 79.48113207547169\n",
      "Fold 2 accuracy: 83.25471698113208\n",
      "Fold 3 accuracy: 83.01886792452831\n",
      "Fold 4 accuracy: 84.90566037735849\n",
      "Fold 5 accuracy: 82.0754716981132\n",
      "Fold 6 accuracy: 82.54716981132076\n",
      "Fold 7 accuracy: 83.72641509433963\n",
      "Fold 8 accuracy: 84.43396226415094\n",
      "Fold 9 accuracy: 85.37735849056604\n",
      "Fold 10 accuracy: 83.49056603773585\n",
      "Mean Accuracy: 83.23113207547169\n"
     ]
    }
   ],
   "source": [
    "\n",
    "def run_kfold(rf_Classifier_Object):\n",
    "    kf = KFold(n_splits=10)\n",
    "    outcomes = []\n",
    "    fold = 0\n",
    "    for train_index, test_index in kf.split(X_modeled):\n",
    "        fold += 1\n",
    "        X_train, X_test = X_modeled[train_index], X_modeled[test_index]\n",
    "        y_train, y_test = y[train_index], y[test_index]\n",
    "        rf_Classifier_Object.fit(X_train, y_train)\n",
    "        accuracy_rf = rf_Classifier_Object.score(X_test, y_test)*100\n",
    "        outcomes.append(accuracy_rf)\n",
    "        print(\"Fold {0} accuracy: {1}\".format(fold, accuracy_rf))     \n",
    "    mean_outcome_rf = np.mean(outcomes)\n",
    "    print(\"Mean Accuracy: {0}\".format(mean_outcome_rf)) #KFold cross validation\n",
    "    return(mean_outcome_rf)\n",
    "\n",
    "rf_Kfoldscore=run_kfold(rf_Classifier_Object)"
   ]
  },
  {
   "cell_type": "markdown",
   "metadata": {},
   "source": [
    "### confusion matrix - random forest"
   ]
  },
  {
   "cell_type": "code",
   "execution_count": 929,
   "metadata": {},
   "outputs": [
    {
     "name": "stdout",
     "output_type": "stream",
     "text": [
      "[[856  39]\n",
      " [145  20]]\n"
     ]
    },
    {
     "data": {
      "text/plain": [
       "(2.0, 0.0)"
      ]
     },
     "execution_count": 929,
     "metadata": {},
     "output_type": "execute_result"
    },
    {
     "data": {
      "image/png": "[encoded data removed]",
      "text/plain": [
       "<Figure size 432x288 with 2 Axes>"
      ]
     },
     "metadata": {
      "needs_background": "light"
     },
     "output_type": "display_data"
    }
   ],
   "source": [
    "results_rf = confusion_matrix(y_test, predict_rf) \n",
    "print(results_rf)\n",
    "ax=sns.heatmap(results_rf,linewidths=1,vmax=1000,\n",
    "            square=True, cmap=\"Blues\",annot=True)\n",
    "#if i don't run the next 2 lines of code, the heatmap will be cut off.\n",
    "bottom, top = ax.get_ylim()\n",
    "ax.set_ylim(bottom + 0.5, top - 0.5)"
   ]
  },
  {
   "cell_type": "markdown",
   "metadata": {},
   "source": [
    "# Model Comparsion"
   ]
  },
  {
   "cell_type": "code",
   "execution_count": 930,
   "metadata": {},
   "outputs": [
    {
     "data": {
      "text/html": [
       "<div>\n",
       "<style scoped>\n",
       "    .dataframe tbody tr th:only-of-type {\n",
       "        vertical-align: middle;\n",
       "    }\n",
       "\n",
       "    .dataframe tbody tr th {\n",
       "        vertical-align: top;\n",
       "    }\n",
       "\n",
       "    .dataframe thead th {\n",
       "        text-align: right;\n",
       "    }\n",
       "</style>\n",
       "<table border=\"1\" class=\"dataframe\">\n",
       "  <thead>\n",
       "    <tr style=\"text-align: right;\">\n",
       "      <th></th>\n",
       "      <th>Model</th>\n",
       "      <th>Score</th>\n",
       "      <th>Kfold score</th>\n",
       "    </tr>\n",
       "  </thead>\n",
       "  <tbody>\n",
       "    <tr>\n",
       "      <td>1</td>\n",
       "      <td>Logistic Regression</td>\n",
       "      <td>85.283019</td>\n",
       "      <td>85.353774</td>\n",
       "    </tr>\n",
       "    <tr>\n",
       "      <td>0</td>\n",
       "      <td>Support Vector Machines</td>\n",
       "      <td>84.150943</td>\n",
       "      <td>84.481132</td>\n",
       "    </tr>\n",
       "    <tr>\n",
       "      <td>4</td>\n",
       "      <td>Naive Bayes</td>\n",
       "      <td>84.056604</td>\n",
       "      <td>84.410377</td>\n",
       "    </tr>\n",
       "    <tr>\n",
       "      <td>5</td>\n",
       "      <td>Random Forest</td>\n",
       "      <td>82.641509</td>\n",
       "      <td>83.231132</td>\n",
       "    </tr>\n",
       "    <tr>\n",
       "      <td>2</td>\n",
       "      <td>KNN</td>\n",
       "      <td>81.886792</td>\n",
       "      <td>82.075472</td>\n",
       "    </tr>\n",
       "    <tr>\n",
       "      <td>3</td>\n",
       "      <td>Decision Tree</td>\n",
       "      <td>76.509434</td>\n",
       "      <td>75.047170</td>\n",
       "    </tr>\n",
       "  </tbody>\n",
       "</table>\n",
       "</div>"
      ],
      "text/plain": [
       "                     Model      Score  Kfold score\n",
       "1      Logistic Regression  85.283019    85.353774\n",
       "0  Support Vector Machines  84.150943    84.481132\n",
       "4              Naive Bayes  84.056604    84.410377\n",
       "5            Random Forest  82.641509    83.231132\n",
       "2                      KNN  81.886792    82.075472\n",
       "3            Decision Tree  76.509434    75.047170"
      ]
     },
     "execution_count": 930,
     "metadata": {},
     "output_type": "execute_result"
    }
   ],
   "source": [
    "models = pd.DataFrame({\n",
    "    'Model': ['Support Vector Machines', 'Logistic Regression','KNN',  \n",
    "              'Decision Tree','Naive Bayes', 'Random Forest',\n",
    "              ],\n",
    "    'Score': [SVM_score, Logistic_regression_score,knn_score, decision_tree_score, NB_score,\n",
    "              RandomForest_score],\n",
    "    'Kfold score': [svc_KFoldScore,logreg_Kfoldscore,knn_Kfoldscore,DT_Kfoldscore, nb_Kfoldscore,\n",
    "                   rf_Kfoldscore]})\n",
    "models.sort_values(by='Score', ascending=False)\n"
   ]
  }
 ],
 "metadata": {
  "kernelspec": {
   "display_name": "Python 3",
   "language": "python",
   "name": "python3"
  },
  "language_info": {
   "codemirror_mode": {
    "name": "ipython",
    "version": 3
   },
   "file_extension": ".py",
   "mimetype": "text/x-python",
   "name": "python",
   "nbconvert_exporter": "python",
   "pygments_lexer": "ipython3",
   "version": "3.7.4"
  }
 },
 "nbformat": 4,
 "nbformat_minor": 2
}
